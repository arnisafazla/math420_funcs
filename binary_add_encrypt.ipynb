{
 "cells": [
  {
   "cell_type": "code",
   "execution_count": 1,
   "metadata": {},
   "outputs": [],
   "source": [
    "sage: def change_base(k, a, b):\n",
    "    num = 0\n",
    "    i = 0\n",
    "    while k > 0:\n",
    "        num = num + (k % 10) * (a ** i)\n",
    "        k = k // 10\n",
    "        i = i + 1\n",
    "    numstr = \"\"\n",
    "    while num > 0:\n",
    "        numstr = numstr + string(num % b)\n",
    "        num = num // b\n",
    "    numstr = numstr[::-1]\n",
    "    return int(numstr)\n",
    "\n",
    "sage: def format_numbers(k, bits):\n",
    "    while len(k) < bits:\n",
    "        k = '0' + k\n",
    "    return k\n",
    "\n",
    "sage: def string(k):\n",
    "    return f'{k}'\n",
    "\n",
    "sage: def binary_add_encrypt(k, b, m):\n",
    "    M = [change_base(ord(c)+0, 10, 2) for c in m] \n",
    "    binary_text = \"\"\n",
    "    for i in range(len(m)):\n",
    "        binary_text = binary_text + format_numbers(string(M[i]), 8)\n",
    "    M = []\n",
    "    encrypted_binary = \"\"\n",
    "    for a in range(len(binary_text)-1):\n",
    "        encrypted_binary = encrypted_binary + string(int(binary_text[a]) | int(k[a]))\n",
    "    for i in range(len(binary_text) % b):\n",
    "        binary_text = binary_text + '0'\n",
    "    i = 0\n",
    "    while i + b < len(binary_text):\n",
    "        M.append(change_base(int(binary_text[i:i+b]), 2, 10))\n",
    "        i = i + b\n",
    "    print(M)"
   ]
  },
  {
   "cell_type": "code",
   "execution_count": null,
   "metadata": {},
   "outputs": [],
   "source": []
  }
 ],
 "metadata": {
  "kernelspec": {
   "display_name": "SageMath 9.1",
   "language": "sage",
   "name": "sagemath"
  },
  "language_info": {
   "codemirror_mode": {
    "name": "ipython",
    "version": 3
   },
   "file_extension": ".py",
   "mimetype": "text/x-python",
   "name": "python",
   "nbconvert_exporter": "python",
   "pygments_lexer": "ipython3",
   "version": "3.7.3"
  }
 },
 "nbformat": 4,
 "nbformat_minor": 2
}
