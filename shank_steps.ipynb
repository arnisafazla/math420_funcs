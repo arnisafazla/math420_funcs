{
 "cells": [
  {
   "cell_type": "code",
   "execution_count": 30,
   "metadata": {},
   "outputs": [],
   "source": [
    "sage: def shank_steps(g, h, p):\n",
    "    N = Mod(g,p).multiplicative_order()\n",
    "    n = 1 + ceil(sqrt(N))\n",
    "    List1 = [Mod(g**i,p) for i in range(n)]\n",
    "    List1[0] = e\n",
    "    List2 = [Mod(h*(g**(i*n*-1)),p) for i in range(n)]\n",
    "    List2[0] = h*e\n",
    "    print(List1)\n",
    "    print(List2)\n",
    "    x = 0\n",
    "    for i in range(n):\n",
    "        if List1[i] in List2:\n",
    "            x = i + List2.index(List1[i]) * n\n",
    "            break\n",
    "    print(x)"
   ]
  },
  {
   "cell_type": "code",
   "execution_count": 31,
   "metadata": {},
   "outputs": [
    {
     "name": "stdout",
     "output_type": "stream",
     "text": [
      "[e, 32, 48, 11, 47]\n",
      "[18*e, 34, 10, 46, 53]\n",
      "0\n",
      "None\n"
     ]
    }
   ],
   "source": [
    "p = random_prime(2^6-1,False,2^5)\n",
    "a = shank_steps(337,18,p)\n",
    "print(a)"
   ]
  },
  {
   "cell_type": "code",
   "execution_count": 22,
   "metadata": {},
   "outputs": [
    {
     "name": "stdout",
     "output_type": "stream",
     "text": [
      "18\n"
     ]
    }
   ],
   "source": [
    "print(Mod(337**a,p))"
   ]
  }
 ],
 "metadata": {
  "kernelspec": {
   "display_name": "SageMath 9.1",
   "language": "sage",
   "name": "sagemath"
  }
 },
 "nbformat": 4,
 "nbformat_minor": 2
}
