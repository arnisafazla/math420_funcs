{
 "cells": [
  {
   "cell_type": "code",
   "execution_count": 34,
   "metadata": {},
   "outputs": [],
   "source": [
    "sage: from sage.crypto.util import bin_to_ascii \n",
    "sage: from sage.crypto.util import ascii_to_bin \n",
    "\n",
    "sage: def change_base(k, a, b):\n",
    "    num = 0\n",
    "    i = 0\n",
    "    while k > 0:\n",
    "        num = num + (k % 10) * (a ** i)\n",
    "        k = k // 10\n",
    "        i = i + 1\n",
    "    numstr = \"\"\n",
    "    while num > 0:\n",
    "        numstr = numstr + string(num % b)\n",
    "        num = num // b\n",
    "    numstr = numstr[::-1]\n",
    "    return numstr\n",
    "\n",
    "sage: def format_numbers(k, bits):\n",
    "    while len(k) < bits:\n",
    "        k = '0' + k\n",
    "    return k\n",
    "\n",
    "sage: def string(k):\n",
    "    return f'{k}'\n",
    "\n",
    "sage: def vernams_pad(k, m):\n",
    "    bin = string(ascii_to_bin(m))\n",
    "    key = change_base(k,10,2)\n",
    "    enc = \"\"\n",
    "    for a in range(len(bin)):\n",
    "        enc = enc + string((int(bin[a]) + int(key[a])) % 2)\n",
    "    return change_base(int(enc),2,10)\n",
    "\n",
    "sage: def reverse_m(n):\n",
    "    bin = change_base(int(n),10,2)\n",
    "    n = format_numbers(bin,ceil(len(bin)/8)*8)\n",
    "    k = 0\n",
    "    str = string(n)\n",
    "    block = \"\"\n",
    "    m = \"\"\n",
    "    while k < len(str):\n",
    "        block = block + str[k]\n",
    "        if k % 8 == 7:\n",
    "            m = m + bin_to_ascii(block)\n",
    "            block = \"\"\n",
    "        k = k + 1\n",
    "    return m\n",
    "\n",
    "sage: def decrypt_vernams_pad(k, c):\n",
    "    bin = change_base(c, 10, 2)\n",
    "    key = change_base(k, 10, 2)\n",
    "    dec = \"\"\n",
    "    for a in range(len(bin)):\n",
    "        dec = dec + string((int(bin[a]) + int(key[a])) % 2)\n",
    "    return change_base(int(dec),2,10)"
   ]
  },
  {
   "cell_type": "code",
   "execution_count": 37,
   "metadata": {},
   "outputs": [
    {
     "name": "stdout",
     "output_type": "stream",
     "text": [
      "32309054545037006034346730529\n",
      "\n",
      "11010000110010101101100011011000110111100100000011101110110111101110010011011000110010000100001\n",
      "\n",
      "hello world!\n"
     ]
    }
   ],
   "source": [
    "key  = 5616565484520616546456456546645\n",
    "print(reverse_m(decrypt_vernams_pad(key,int(vernams_pad(key,\"hello world!\")))))"
   ]
  },
  {
   "cell_type": "code",
   "execution_count": null,
   "metadata": {},
   "outputs": [],
   "source": []
  }
 ],
 "metadata": {
  "kernelspec": {
   "display_name": "SageMath 9.1",
   "language": "sage",
   "name": "sagemath"
  },
  "language_info": {
   "codemirror_mode": {
    "name": "ipython",
    "version": 3
   },
   "file_extension": ".py",
   "mimetype": "text/x-python",
   "name": "python",
   "nbconvert_exporter": "python",
   "pygments_lexer": "ipython3",
   "version": "3.7.3"
  }
 },
 "nbformat": 4,
 "nbformat_minor": 2
}
