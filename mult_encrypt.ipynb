{
 "cells": [
  {
   "cell_type": "code",
   "execution_count": 58,
   "metadata": {},
   "outputs": [],
   "source": [
    "sage: from sage.crypto.util import bin_to_ascii \n",
    "sage: from sage.crypto.util import ascii_to_bin \n",
    "\n",
    "sage: def string(k):\n",
    "    return f'{k}'\n",
    "\n",
    "#base of k, from a to b\n",
    "sage: def change_base(k, a, b):\n",
    "    num = 0\n",
    "    i = 0\n",
    "    while k > 0:\n",
    "        num = num + (k % 10) * (a ** i)\n",
    "        k = k // 10\n",
    "        i = i + 1\n",
    "    numstr = \"\"\n",
    "    while num > 0:\n",
    "        numstr = numstr + string(num % b)\n",
    "        num = num // b\n",
    "    numstr = numstr[::-1]\n",
    "    return numstr\n",
    "\n",
    "#add enough 0s to the beginning to make it bits bits\n",
    "sage: def format_numbers(k, bits):\n",
    "    while len(k) < bits:\n",
    "        k = '0' + k\n",
    "    return k\n",
    "\n",
    "#generate decimal int m with B bits from plaintext\n",
    "sage: def generate_m(plaintext, B):\n",
    "    m = string(ascii_to_bin(plaintext))\n",
    "    while len(m) < B:\n",
    "        m = m + '0'\n",
    "    return int(change_base(int(m), 2, 10))\n",
    "\n",
    "#generate plainttext of bitsize bits from decimal int m\n",
    "sage: def reverse_m(n):\n",
    "    bin = change_base(int(n),10,2)\n",
    "    n = format_numbers(bin,ceil(len(bin)/8)*8)\n",
    "    k = 0\n",
    "    str = string(n)\n",
    "    block = \"\"\n",
    "    m = \"\"\n",
    "    while k < len(str):\n",
    "        block = block + str[k]\n",
    "        if k % 8 == 7:\n",
    "            m = m + bin_to_ascii(block)\n",
    "            block = \"\"\n",
    "        k = k + 1\n",
    "    return m\n",
    "    \n",
    "# ek = m * k % p\n",
    "sage: def mult_encrypt(p, k, plaintext, B):\n",
    "    m = generate_m(plaintext, B)\n",
    "    return m * k % p\n",
    "\n",
    "#dk = k' * c % p\n",
    "sage: def mult_decrypt(p, k, ciphertext):\n",
    "    return inverse_mod(k,p) * ciphertext % p"
   ]
  },
  {
   "cell_type": "code",
   "execution_count": 61,
   "metadata": {},
   "outputs": [
    {
     "name": "stdout",
     "output_type": "stream",
     "text": [
      "448378203247\n",
      "\n",
      "\n",
      "466768220359193702293340679950332797102671585942821203642968767506431206943297837049560322434633751190054280611863159924649608192310316113662837368438503226513197060619675738690566565\n",
      "\n",
      "\n",
      "448378203247\n",
      "\n",
      "\n",
      "0110100001100101011011000110110001101111\n",
      "\n",
      "hello\n"
     ]
    }
   ],
   "source": [
    "sage: p = random_prime(2^610-1,False,2^159)\n",
    "k = random_prime(p,False,0)\n",
    "enc = mult_encrypt(p, k, 'hello', 40)\n",
    "print(enc)\n",
    "print('\\n')\n",
    "dec = mult_decrypt(p,k,enc)\n",
    "print(dec)\n",
    "print('\\n')\n",
    "print(reverse_m(dec))\n"
   ]
  },
  {
   "cell_type": "code",
   "execution_count": null,
   "metadata": {},
   "outputs": [],
   "source": []
  }
 ],
 "metadata": {
  "kernelspec": {
   "display_name": "SageMath 9.1",
   "language": "sage",
   "name": "sagemath"
  },
  "language_info": {
   "codemirror_mode": {
    "name": "ipython",
    "version": 3
   },
   "file_extension": ".py",
   "mimetype": "text/x-python",
   "name": "python",
   "nbconvert_exporter": "python",
   "pygments_lexer": "ipython3",
   "version": "3.7.3"
  }
 },
 "nbformat": 4,
 "nbformat_minor": 2
}
