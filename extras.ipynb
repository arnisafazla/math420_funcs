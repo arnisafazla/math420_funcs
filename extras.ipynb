{
 "cells": [
  {
   "cell_type": "code",
   "execution_count": 138,
   "metadata": {},
   "outputs": [],
   "source": [
    "sage: def change_base(k, a, b):\n",
    "    num = 0\n",
    "    i = 0\n",
    "    while k > 0:\n",
    "        num = num + (k % 10) * (a ** i)\n",
    "        k = k // 10\n",
    "        i = i + 1\n",
    "    numstr = \"\"\n",
    "    while num > 0:\n",
    "        numstr = numstr + string(num % b)\n",
    "        num = num // b\n",
    "    numstr = numstr[::-1]\n",
    "    return int(numstr)\n",
    "\n",
    "sage: def format_numbers(k, bits):\n",
    "    while len(k) < bits:\n",
    "        k = '0' + k\n",
    "    return k\n",
    "\n",
    "sage: def string(k):\n",
    "    return f'{k}'\n"
   ]
  }
 ],
 "metadata": {
  "kernelspec": {
   "display_name": "SageMath 9.1",
   "language": "sage",
   "name": "sagemath"
  },
  "language_info": {
   "codemirror_mode": {
    "name": "ipython",
    "version": 3
   },
   "file_extension": ".py",
   "mimetype": "text/x-python",
   "name": "python",
   "nbconvert_exporter": "python",
   "pygments_lexer": "ipython3",
   "version": "3.7.3"
  }
 },
 "nbformat": 4,
 "nbformat_minor": 2
}
