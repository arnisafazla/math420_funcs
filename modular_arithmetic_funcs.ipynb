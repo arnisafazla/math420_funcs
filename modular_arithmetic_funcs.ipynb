{
 "cells": [
  {
   "cell_type": "code",
   "execution_count": 3,
   "metadata": {},
   "outputs": [],
   "source": [
    "# au+bv = gcd(a, b). return u, v and g(gcd(a,b))\n",
    "sage: def gcdy(a, b):\n",
    "        u = 1\n",
    "        g = a\n",
    "        x = 0\n",
    "        y = b\n",
    "        if b == 0 or a == 0:\n",
    "            return \"invalid input\"\n",
    "        \n",
    "        while y > 0:\n",
    "            \n",
    "            q = g // y\n",
    "            t = g % y\n",
    "            s = u - q*x\n",
    "            u = x\n",
    "            g = y\n",
    "            x = s\n",
    "            y = t\n",
    "            \n",
    "        v = (g - a* u)/b\n",
    "        if u < 0:\n",
    "            return (g, u + b/g, v)\n",
    "        return (g, u, v)"
   ]
  },
  {
   "cell_type": "code",
   "execution_count": 2,
   "metadata": {},
   "outputs": [],
   "source": [
    "# g to the power A mod N\n",
    "sage: def square_and_multiply(N, g, A):\n",
    "        a = g\n",
    "        b = 1\n",
    "        while A > 0:\n",
    "            if A % 2 == 1:\n",
    "                b = (b * a) % N\n",
    "            a = (a ** 2) % N\n",
    "            A = A // 2\n",
    "        return b"
   ]
  },
  {
   "cell_type": "code",
   "execution_count": 3,
   "metadata": {},
   "outputs": [],
   "source": [
    "#return array of primitive roots of p.\n",
    "sage: def primitive_roots(p):\n",
    "        primroots = []\n",
    "        for a in range(1, p):\n",
    "            if  Mod(a,p).multiplicative_order() == (p-1):\n",
    "                primroots.append(a)\n",
    "                \n",
    "        return primroots"
   ]
  },
  {
   "cell_type": "code",
   "execution_count": 4,
   "metadata": {},
   "outputs": [
    {
     "data": {
      "text/plain": [
       "6"
      ]
     },
     "execution_count": 4,
     "metadata": {},
     "output_type": "execute_result"
    }
   ],
   "source": [
    "euler_phi(7)"
   ]
  },
  {
   "cell_type": "code",
   "execution_count": 1,
   "metadata": {},
   "outputs": [],
   "source": [
    "# function to find all primes with primitive root a, smaller than p\n",
    "sage: def primes_with_this_mod(a, p):\n",
    "        primes = []\n",
    "        for b in range(2, p + 1):\n",
    "            if is_prime(b) == True and Mod(a, b) != 0:\n",
    "                if Mod(a, b).multiplicative_order() == (b-1):\n",
    "                    primes.append(b)\n",
    "        return primes"
   ]
  },
  {
   "cell_type": "code",
   "execution_count": 7,
   "metadata": {},
   "outputs": [],
   "source": [
    "#chinese remainder theorem algorithm for x=a(modm) and x=b(modn)\n",
    "sage: def chinese(a, m, b, n):\n",
    "    (g, c, d) = gcdy(m,n)\n",
    "    return Mod(a + (b - a) * c * m, m * n)"
   ]
  },
  {
   "cell_type": "code",
   "execution_count": 9,
   "metadata": {},
   "outputs": [
    {
     "name": "stdout",
     "output_type": "stream",
     "text": [
      "8\n",
      "23\n"
     ]
    }
   ],
   "source": [
    "# x = 2 mod3\n",
    "# x = 3 mod5\n",
    "# x = 2 mod7\n",
    "print(chinese(2,3,3,5))\n",
    "print(chinese(8,15,2,7))"
   ]
  },
  {
   "cell_type": "code",
   "execution_count": 1,
   "metadata": {},
   "outputs": [],
   "source": [
    "#solving DLP g ^ x = h (mod p)\n",
    "sage: def shank_steps(g, h, p):\n",
    "    N = Mod(g,p).multiplicative_order()\n",
    "    n = 1 + ceil(sqrt(N))\n",
    "    print(n)\n",
    "    List1 = [Mod(g**i,p) for i in range(n)]\n",
    "    List1[0] = e\n",
    "    List2 = [Mod(h*(g**(i*n*-1)),p) for i in range(n)]\n",
    "    List2[0] = h*e\n",
    "    x = 0\n",
    "    print(List1)\n",
    "    print(List2)\n",
    "    for i in range(n):\n",
    "        if List1[i] in List2:\n",
    "            x = i + List2.index(List1[i]) * n\n",
    "            print(List1[i])\n",
    "            print(i)\n",
    "            print(List2.index(List1[i]))\n",
    "            break\n",
    "    print(x)"
   ]
  },
  {
   "cell_type": "code",
   "execution_count": 2,
   "metadata": {},
   "outputs": [],
   "source": [
    "# Pollards factorization algorithm.\n",
    "sage: def pollards(N, end):\n",
    "    a = 2\n",
    "    for j in range(2,end):\n",
    "        a = Mod(a ** j, N)\n",
    "        d = gcd(a - 1, N)\n",
    "        d = int(d)\n",
    "        print(\"2^\" + string(j) + \" - 1 = \" + string(a-1) + \" (mod \" + string(N) + \"),   gcd(2^\" + string(j) + \" - 1,\" + string(N) + \") = \" + string(d))\n",
    "        if d > 1 and d < N:\n",
    "            return d\n",
    "    return 0\n",
    "sage: def string(k):\n",
    "    return f'{k}'"
   ]
  },
  {
   "cell_type": "code",
   "execution_count": 3,
   "metadata": {},
   "outputs": [],
   "source": [
    "# Miller Rabin Test. Returns true if a is a witness for compositeness of n, returns False otherwise\n",
    "sage: def MillerTest(n, a):\n",
    "    if n % 2 == 0 or 1 < gcd(a,n) < n:\n",
    "        return True\n",
    "    k = 0\n",
    "    q = n - 1\n",
    "    while q % 2 == 0:\n",
    "        k += 1\n",
    "        q = q / 2\n",
    "    print(\"n-1 = \" + str(n-1) + \" = 2^\" + str(k) + \" * \" + str(q))\n",
    "    b = Mod(a ** q, n)\n",
    "    a_count = 1\n",
    "    if b == 1:\n",
    "        print(str(a) + \"^(\" + str(a_count) + \"*\" + str(q) + \") = \" + str(b) + \" (mod \" + str(n) + \")\")\n",
    "        return False\n",
    "    for i in range(0, k):    \n",
    "\n",
    "        if b == n - 1:\n",
    "            print(str(a) + \"^(\" + str(a_count) + \"*\" + str(q) + \") = -1\")\n",
    "            return False\n",
    "        b = Mod(a ** 2, n)\n",
    "        print(str(a) + \"^(\" + str(a_count) + \"*\" + str(q) + \") = \" + str(b) + \" (mod \" + str(n) + \")\")\n",
    "        a_count *= 2\n",
    "    return True"
   ]
  },
  {
   "cell_type": "code",
   "execution_count": 4,
   "metadata": {},
   "outputs": [
    {
     "name": "stdout",
     "output_type": "stream",
     "text": [
      "2: \n",
      "n-1 = 118901526 = 2^1 * 59450763\n",
      "2^(1*59450763) = 1 (mod 118901527)\n",
      "3: \n",
      "n-1 = 118901526 = 2^1 * 59450763\n",
      "3^(1*59450763) = -1\n",
      "5: \n",
      "n-1 = 118901526 = 2^1 * 59450763\n",
      "5^(1*59450763) = -1\n",
      "7: \n",
      "n-1 = 118901526 = 2^1 * 59450763\n",
      "7^(1*59450763) = 1 (mod 118901527)\n",
      "11: \n",
      "n-1 = 118901526 = 2^1 * 59450763\n",
      "11^(1*59450763) = 1 (mod 118901527)\n",
      "13: \n",
      "n-1 = 118901526 = 2^1 * 59450763\n",
      "13^(1*59450763) = 1 (mod 118901527)\n",
      "17: \n",
      "n-1 = 118901526 = 2^1 * 59450763\n",
      "17^(1*59450763) = 1 (mod 118901527)\n",
      "19: \n",
      "n-1 = 118901526 = 2^1 * 59450763\n",
      "19^(1*59450763) = 1 (mod 118901527)\n",
      "23: \n",
      "n-1 = 118901526 = 2^1 * 59450763\n",
      "23^(1*59450763) = 1 (mod 118901527)\n",
      "29: \n",
      "n-1 = 118901526 = 2^1 * 59450763\n",
      "29^(1*59450763) = -1\n",
      "prime\n"
     ]
    },
    {
     "data": {
      "text/plain": [
       "True"
      ]
     },
     "execution_count": 4,
     "metadata": {},
     "output_type": "execute_result"
    }
   ],
   "source": [
    "# try 10 nums for witnesses for compositeness of n.\n",
    "n = 118901527\n",
    "a = 2\n",
    "for i in range(10):\n",
    "    print(str(a) + \": \")\n",
    "    if (MillerTest(n, a)):\n",
    "        print(\"composite\")\n",
    "        break\n",
    "    a = next_prime(a)\n",
    "print(\"prime\")\n",
    "is_prime(n)"
   ]
  },
  {
   "cell_type": "code",
   "execution_count": 5,
   "metadata": {},
   "outputs": [],
   "source": [
    "# Checks if a numbber is prime. If it is True, the number n is composite, else False\n",
    "sage: from math import *\n",
    "sage: def RiemannMillerTest(n):\n",
    "        for a in range(2, 2*int((log(n))**2)):\n",
    "            if MillerTest(n, a):\n",
    "                return True\n",
    "        return False"
   ]
  },
  {
   "cell_type": "code",
   "execution_count": 1,
   "metadata": {},
   "outputs": [],
   "source": [
    "sage: p = random_prime(2^160-1,False,2^159)"
   ]
  },
  {
   "cell_type": "code",
   "execution_count": 1,
   "metadata": {},
   "outputs": [
    {
     "data": {
      "text/plain": [
       "0.2731025931804675"
      ]
     },
     "execution_count": 1,
     "metadata": {},
     "output_type": "execute_result"
    }
   ],
   "source": [
    "random()"
   ]
  },
  {
   "cell_type": "code",
   "execution_count": null,
   "metadata": {},
   "outputs": [],
   "source": []
  }
 ],
 "metadata": {
  "kernelspec": {
   "display_name": "SageMath 9.1",
   "language": "sage",
   "name": "sagemath"
  }
 },
 "nbformat": 4,
 "nbformat_minor": 2
}
