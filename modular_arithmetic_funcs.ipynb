{
 "cells": [
  {
   "cell_type": "code",
   "execution_count": 1,
   "metadata": {},
   "outputs": [],
   "source": [
    "# au+bv = gcd(a, b). return u, v and g(gcd(a,b))\n",
    "sage: def gcdy(a, b):\n",
    "        u = 1\n",
    "        g = a\n",
    "        x = 0\n",
    "        y = b\n",
    "        if b == 0 or a == 0:\n",
    "            return \"invalid input\"\n",
    "        \n",
    "        while y > 0:\n",
    "            \n",
    "            q = g // y\n",
    "            t = g % y\n",
    "            s = u - q*x\n",
    "            u = x\n",
    "            g = y\n",
    "            x = s\n",
    "            y = t\n",
    "            \n",
    "        v = (g - a* u)/b\n",
    "        if u < 0:\n",
    "            return (g, u + b/g, v)\n",
    "        return (g, u, v)"
   ]
  },
  {
   "cell_type": "code",
   "execution_count": 2,
   "metadata": {},
   "outputs": [],
   "source": [
    "# g to the power A mod N\n",
    "sage: def square_and_multiply(N, g, A):\n",
    "        a = g\n",
    "        b = 1\n",
    "        while A > 0:\n",
    "            if A % 2 == 1:\n",
    "                b = (b * a) % N\n",
    "            a = (a ** 2) % N\n",
    "            A = A // 2\n",
    "        return b"
   ]
  },
  {
   "cell_type": "code",
   "execution_count": 3,
   "metadata": {},
   "outputs": [],
   "source": [
    "#return array of primitive roots of p.\n",
    "sage: def primitive_roots(p):\n",
    "        primroots = []\n",
    "        for a in range(1, p):\n",
    "            if  Mod(a,p).multiplicative_order() == (p-1):\n",
    "                primroots.append(a)\n",
    "                \n",
    "        return primroots"
   ]
  },
  {
   "cell_type": "code",
   "execution_count": 4,
   "metadata": {},
   "outputs": [
    {
     "data": {
      "text/plain": [
       "6"
      ]
     },
     "execution_count": 4,
     "metadata": {},
     "output_type": "execute_result"
    }
   ],
   "source": [
    "euler_phi(7)"
   ]
  },
  {
   "cell_type": "code",
   "execution_count": 6,
   "metadata": {},
   "outputs": [],
   "source": [
    "# function to find all primes with primitive root a, smaller than p\n",
    "sage: def primes_with_this_mod(a, p):\n",
    "        primes = []\n",
    "        for b in range(2, p + 1):\n",
    "            if is_prime(b) == True and Mod(a, b) != 0:\n",
    "                if Mod(a, b).multiplicative_order() == (b-1):\n",
    "                    primes.append(b)\n",
    "        return primes"
   ]
  }
 ],
 "metadata": {
  "kernelspec": {
   "display_name": "SageMath 9.1",
   "language": "sage",
   "name": "sagemath"
  },
  "language_info": {
   "codemirror_mode": {
    "name": "ipython",
    "version": 3
   },
   "file_extension": ".py",
   "mimetype": "text/x-python",
   "name": "python",
   "nbconvert_exporter": "python",
   "pygments_lexer": "ipython3",
   "version": "3.7.3"
  }
 },
 "nbformat": 4,
 "nbformat_minor": 2
}
