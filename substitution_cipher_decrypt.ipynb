{
 "cells": [
  {
   "cell_type": "code",
   "execution_count": 1,
   "metadata": {},
   "outputs": [],
   "source": [
    "#Question 1.4\n",
    "#I will write letters of cipher text in lower case and letters of the plain text in upper case for convention.\n",
    "#I had to try a lot of different possibilities but I won't write them here."
   ]
  },
  {
   "cell_type": "code",
   "execution_count": 2,
   "metadata": {},
   "outputs": [],
   "source": [
    "sage: cpt1 = \"GSZES    GNUBE  SZGUG    SNKGX   CSUUE   QNZOQ   EOVJN  VXKNG   XGAHS   AWSZZ   BOVUE  SIXCQ     NQESX    NGEUG   AHZQA  QHNSP   CIPQA  OIDLV    JXGAK     CGJCG    SASUB   FVQAV   CIAWN   VWOVP  SNSXV   JGPCV    NODIX  GJQAE    VOOXC    SXXCG  OGOVA  XGNVU  BAVKX    QZVQD   LVJXQ    EXCQO   VKCQG AMVAX  VWXCG   OOBOX  VZCSO   SPPSN    VAXUB   DVVAX   QJQAJ     VSUXC   SXXCV  OVJCS     NSJXV     NOJQA MVBSZ  VOOSH   VSAWX  QHGMV   GWVSX  CSXXC  VBSNV  ZVNVN   SAWQZ  ORVXJ CVOQE   JCGUW   NVA\"\n",
    "#According to the given frequency table, the most common letter in this cipher text is V, and the most common letter in English is E. So we try replacing V with E\n",
    "#cpt2: v -> E"
   ]
  },
  {
   "cell_type": "code",
   "execution_count": 3,
   "metadata": {},
   "outputs": [
    {
     "name": "stdout",
     "output_type": "stream",
     "text": [
      "gszes    gnube  szgug    snkgx   csuue   qnzoq   eoEjn  Exkng   xgahs   awszz   boEue  sixcq     nqesx    ngeug   ahzqa  qhnsp   cipqa  oidlE    jxgak     cgjcg    sasub   fEqaE   ciawn   EwoEp  snsxE   jgpcE    nodix  gjqae    Eooxc    sxxcg  ogoEa  xgnEu  baEkx    qzEqd   lEjxq    excqo   Ekcqg amEax  Ewxcg   oobox  Ezcso   sppsn    Eaxub   dEEax   qjqaj     Esuxc   sxxcE  oEjcs     nsjxE     nojqa mEbsz  Eoosh   Esawx  qhgmE   gwEsx  csxxc  EbsnE  zEnEn   sawqz  orExj cEoqe   jcguw   nEa\n"
     ]
    }
   ],
   "source": [
    "sage: cpt1 = cpt1.lower()\n",
    "sage: cpt2 = cpt1.replace(\"v\", \"E\")\n",
    "sage: print(cpt2)\n",
    "#now we look at bigrams and see that the most frequent bigram is xc.\n",
    "#In English most frequent bigrams are TH, HE and AN.\n",
    "#We try cpt3: xc -> TH"
   ]
  },
  {
   "cell_type": "code",
   "execution_count": 4,
   "metadata": {},
   "outputs": [
    {
     "name": "stdout",
     "output_type": "stream",
     "text": [
      "gszes    gnube  szgug    snkgT   Hsuue   qnzoq   eoEjn  ETkng   Tgahs   awszz   boEue  siTHq     nqesT    ngeug   ahzqa  qhnsp   Hipqa  oidlE    jTgak     HgjHg    sasub   fEqaE   Hiawn   EwoEp  snsTE   jgpHE    nodiT  gjqae    EooTH    sTTHg  ogoEa  TgnEu  baEkT    qzEqd   lEjTq    eTHqo   EkHqg amEaT  EwTHg   ooboT  EzHso   sppsn    EaTub   dEEaT   qjqaj     EsuTH   sTTHE  oEjHs     nsjTE     nojqa mEbsz  Eoosh   EsawT  qhgmE   gwEsT  HsTTH  EbsnE  zEnEn   sawqz  orETj HEoqe   jHguw   nEa\n"
     ]
    }
   ],
   "source": [
    "sage: cpt3 = cpt2.replace(\"x\", \"T\")\n",
    "sage: cpt3 = cpt3.replace(\"c\", \"H\")\n",
    "print(cpt3)\n",
    "#Now we have s left in the cipher text, and A in plain text (v, E and T are used)\n",
    "#cpt4: s -> A"
   ]
  },
  {
   "cell_type": "code",
   "execution_count": 5,
   "metadata": {},
   "outputs": [
    {
     "name": "stdout",
     "output_type": "stream",
     "text": [
      "gAzeA    gnube  Azgug    AnkgT   HAuue   qnzoq   eoEjn  ETkng   TgahA   awAzz   boEue  AiTHq     nqeAT    ngeug   ahzqa  qhnAp   Hipqa  oidlE    jTgak     HgjHg    AaAub   fEqaE   Hiawn   EwoEp  AnATE   jgpHE    nodiT  gjqae    EooTH    ATTHg  ogoEa  TgnEu  baEkT    qzEqd   lEjTq    eTHqo   EkHqg amEaT  EwTHg   ooboT  EzHAo   AppAn    EaTub   dEEaT   qjqaj     EAuTH   ATTHE  oEjHA     nAjTE     nojqa mEbAz  EooAh   EAawT  qhgmE   gwEAT  HATTH  EbAnE  zEnEn   Aawqz  orETj HEoqe   jHguw   nEa\n"
     ]
    }
   ],
   "source": [
    "sage: cpt4 = cpt3.replace(\"s\", \"A\")\n",
    "print(cpt4)\n",
    "#I see THAT in a few places and don't see any weird looking combinations, so continue with bigrams.\n",
    "#I try cpt5: nv -> RE"
   ]
  },
  {
   "cell_type": "code",
   "execution_count": 6,
   "metadata": {},
   "outputs": [
    {
     "name": "stdout",
     "output_type": "stream",
     "text": [
      "gAzeA    gRube  Azgug    ARkgT   HAuue   qRzoq   eoEjR  ETkRg   TgahA   awAzz   boEue  AiTHq     RqeAT    Rgeug   ahzqa  qhRAp   Hipqa  oidlE    jTgak     HgjHg    AaAub   fEqaE   HiawR   EwoEp  ARATE   jgpHE    RodiT  gjqae    EooTH    ATTHg  ogoEa  TgREu  baEkT    qzEqd   lEjTq    eTHqo   EkHqg amEaT  EwTHg   ooboT  EzHAo   AppAR    EaTub   dEEaT   qjqaj     EAuTH   ATTHE  oEjHA     RAjTE     Rojqa mEbAz  EooAh   EAawT  qhgmE   gwEAT  HATTH  EbARE  zERER   Aawqz  orETj HEoqe   jHguw   REa\n"
     ]
    }
   ],
   "source": [
    "sage: cpt5 = cpt4.replace(\"n\", \"R\")\n",
    "sage: cpt5 = cpt5.replace(\"v\", \"E\")\n",
    "print(cpt5)\n",
    "#Now I see oEjR  ET and it reminds me SECRET (since the title is “A Brilliant Detective”)\n",
    "#I try cpt6: oj -> SC"
   ]
  },
  {
   "cell_type": "code",
   "execution_count": 7,
   "metadata": {},
   "outputs": [
    {
     "name": "stdout",
     "output_type": "stream",
     "text": [
      "gAzeA    gRube  Azgug    ARkgT   HAuue   qRzSq   eSECR  ETkRg   TgahA   awAzz   bSEue  AiTHq     RqeAT    Rgeug   ahzqa  qhRAp   Hipqa  SidlE    CTgak     HgCHg    AaAub   fEqaE   HiawR   EwSEp  ARATE   CgpHE    RSdiT  gCqae    ESSTH    ATTHg  SgSEa  TgREu  baEkT    qzEqd   lECTq    eTHqS   EkHqg amEaT  EwTHg   SSbST  EzHAS   AppAR    EaTub   dEEaT   qCqaC     EAuTH   ATTHE  SECHA     RACTE     RSCqa mEbAz  ESSAh   EAawT  qhgmE   gwEAT  HATTH  EbARE  zERER   Aawqz  SrETC HESqe   CHguw   REa\n"
     ]
    }
   ],
   "source": [
    "sage: cpt6 = cpt5.replace(\"o\", \"S\")\n",
    "sage: cpt6 = cpt6.replace(\"j\", \"C\")\n",
    "print(cpt6)\n",
    "# TH   ATTHE  SECHA     RACTE     RS -> THAT THESE CHARACTERS\n",
    "#So I know ı'm on the right track\n",
    "#gwEAT  HAT -> IDEA THAT\n",
    "#cpt7: gw -> ID"
   ]
  },
  {
   "cell_type": "code",
   "execution_count": 8,
   "metadata": {},
   "outputs": [
    {
     "name": "stdout",
     "output_type": "stream",
     "text": [
      "IAzeA    IRube  AzIuI    ARkIT   HAuue   qRzSq   eSECR  ETkRI   TIahA   aDAzz   bSEue  AiTHq     RqeAT    RIeuI   ahzqa  qhRAp   Hipqa  SidlE    CTIak     HICHI    AaAub   fEqaE   HiaDR   EDSEp  ARATE   CIpHE    RSdiT  ICqae    ESSTH    ATTHI  SISEa  TIREu  baEkT    qzEqd   lECTq    eTHqS   EkHqI amEaT  EDTHI   SSbST  EzHAS   AppAR    EaTub   dEEaT   qCqaC     EAuTH   ATTHE  SECHA     RACTE     RSCqa mEbAz  ESSAh   EAaDT  qhImE   IDEAT  HATTH  EbARE  zERER   AaDqz  SrETC HESqe   CHIuD   REa\n"
     ]
    }
   ],
   "source": [
    "sage: cpt7 = cpt6.replace(\"g\", \"I\")\n",
    "sage: cpt7 = cpt7.replace(\"w\", \"D\")\n",
    "print(cpt7)\n",
    "#TH  EbARE -> THEY ARE\n",
    "#cpt8: b -> Y"
   ]
  },
  {
   "cell_type": "code",
   "execution_count": 9,
   "metadata": {},
   "outputs": [
    {
     "name": "stdout",
     "output_type": "stream",
     "text": [
      "IAzeA    IRuYe  AzIuI    ARkIT   HAuue   qRzSq   eSECR  ETkRI   TIahA   aDAzz   YSEue  AiTHq     RqeAT    RIeuI   ahzqa  qhRAp   Hipqa  SidlE    CTIak     HICHI    AaAuY   fEqaE   HiaDR   EDSEp  ARATE   CIpHE    RSdiT  ICqae    ESSTH    ATTHI  SISEa  TIREu  YaEkT    qzEqd   lECTq    eTHqS   EkHqI amEaT  EDTHI   SSYST  EzHAS   AppAR    EaTuY   dEEaT   qCqaC     EAuTH   ATTHE  SECHA     RACTE     RSCqa mEYAz  ESSAh   EAaDT  qhImE   IDEAT  HATTH  EYARE  zERER   AaDqz  SrETC HESqe   CHIuD   REa\n"
     ]
    }
   ],
   "source": [
    "sage: cpt8 = cpt7.replace(\"b\", \"Y\")\n",
    "print(cpt8)\n",
    "#SrETC HES -> SKETCHES\n",
    "#cpt9: r -> K"
   ]
  },
  {
   "cell_type": "code",
   "execution_count": 10,
   "metadata": {},
   "outputs": [
    {
     "name": "stdout",
     "output_type": "stream",
     "text": [
      "IAzeA    IRuYe  AzIuI    ARkIT   HAuue   qRzSq   eSECR  ETkRI   TIahA   aDAzz   YSEue  AiTHq     RqeAT    RIeuI   ahzqa  qhRAp   Hipqa  SidlE    CTIak     HICHI    AaAuY   fEqaE   HiaDR   EDSEp  ARATE   CIpHE    RSdiT  ICqae    ESSTH    ATTHI  SISEa  TIREu  YaEkT    qzEqd   lECTq    eTHqS   EkHqI amEaT  EDTHI   SSYST  EzHAS   AppAR    EaTuY   dEEaT   qCqaC     EAuTH   ATTHE  SECHA     RACTE     RSCqa mEYAz  ESSAh   EAaDT  qhImE   IDEAT  HATTH  EYARE  zERER   AaDqz  SKETC HESqe   CHIuD   REa\n"
     ]
    }
   ],
   "source": [
    "sage: cpt9 = cpt8.replace(\"r\", \"K\")\n",
    "print(cpt9)\n",
    "#After this point I guessed other letters"
   ]
  },
  {
   "cell_type": "code",
   "execution_count": 11,
   "metadata": {},
   "outputs": [
    {
     "name": "stdout",
     "output_type": "stream",
     "text": [
      "IAMFA    IRLYF  AMILI    ARWIT   HALLF   ORMSO   FSECR  ETWRI   TINGA   NDAMM   YSELF  AUTHO     ROFAT    RIFLI   NGMON  OGRAP   HUPON  SUBJE    CTINW     HICHI    ANALY   ZEONE   HUNDR   EDSEP  ARATE   CIPHE    RSBUT  ICONF    ESSTH    ATTHI  SISEN  TIREL  YNEWT    OMEOB   JECTO    FTHOS   EWHOI NVENT  EDTHI   SSYST  EMHAS   APPAR    ENTLY   BEENT   OCONC     EALTH   ATTHE  SECHA     RACTE     RSCON VEYAM  ESSAG   EANDT  OGIVE   IDEAT  HATTH  EYARE  MERER   ANDOM  SKETC HESOF   CHILD   REN\n"
     ]
    }
   ],
   "source": [
    "sage: cpt9 = cpt9.replace(\"z\", \"M\")\n",
    "sage: cpt9 = cpt9.replace(\"e\", \"F\")\n",
    "sage: cpt9 = cpt9.replace(\"k\", \"W\")\n",
    "sage: cpt9 = cpt9.replace(\"p\", \"P\")\n",
    "sage: cpt9 = cpt9.replace(\"q\", \"O\")\n",
    "sage: cpt9 = cpt9.replace(\"u\", \"L\")\n",
    "sage: cpt9 = cpt9.replace(\"a\", \"N\")\n",
    "sage: cpt9 = cpt9.replace(\"m\", \"V\")\n",
    "sage: cpt9 = cpt9.replace(\"h\", \"G\")\n",
    "sage: cpt9 = cpt9.replace(\"f\", \"Z\")\n",
    "sage: cpt9 = cpt9.replace(\"d\", \"B\")\n",
    "sage: cpt9 = cpt9.replace(\"l\", \"J\")\n",
    "sage: cpt9 = cpt9.replace(\"i\", \"U\")\n",
    "print(cpt9)"
   ]
  }
 ],
 "metadata": {
  "kernelspec": {
   "display_name": "SageMath 9.1",
   "language": "sage",
   "name": "sagemath"
  },
  "language_info": {
   "codemirror_mode": {
    "name": "ipython",
    "version": 3
   },
   "file_extension": ".py",
   "mimetype": "text/x-python",
   "name": "python",
   "nbconvert_exporter": "python",
   "pygments_lexer": "ipython3",
   "version": "3.7.3"
  }
 },
 "nbformat": 4,
 "nbformat_minor": 2
}
